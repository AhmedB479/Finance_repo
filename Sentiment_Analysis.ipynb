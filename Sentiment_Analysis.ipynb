{
  "nbformat": 4,
  "nbformat_minor": 0,
  "metadata": {
    "colab": {
      "provenance": [],
      "collapsed_sections": [
        "2uFeVXeCCeyG",
        "kX1LRwtj5bQ8"
      ]
    },
    "kernelspec": {
      "name": "python3",
      "display_name": "Python 3"
    },
    "language_info": {
      "name": "python"
    }
  },
  "cells": [
    {
      "cell_type": "markdown",
      "source": [
        "#Financial Sentiment\n"
      ],
      "metadata": {
        "id": "2uFeVXeCCeyG"
      }
    },
    {
      "cell_type": "markdown",
      "source": [
        "##Install and Import Dependencies"
      ],
      "metadata": {
        "id": "-rRVatoP6pFN"
      }
    },
    {
      "cell_type": "code",
      "source": [
        "!pip install textsum"
      ],
      "metadata": {
        "colab": {
          "base_uri": "https://localhost:8080/"
        },
        "id": "q9z_gi-izkDe",
        "outputId": "6954b84c-bb0a-4f3f-d4b8-3eb570521eb6"
      },
      "execution_count": null,
      "outputs": [
        {
          "output_type": "stream",
          "name": "stdout",
          "text": [
            "Collecting textsum\n",
            "  Downloading textsum-0.2.0-py3-none-any.whl (29 kB)\n",
            "Collecting accelerate (from textsum)\n",
            "  Downloading accelerate-0.24.1-py3-none-any.whl (261 kB)\n",
            "\u001b[2K     \u001b[90m━━━━━━━━━━━━━━━━━━━━━━━━━━━━━━━━━━━━━━━━\u001b[0m \u001b[32m261.4/261.4 kB\u001b[0m \u001b[31m6.8 MB/s\u001b[0m eta \u001b[36m0:00:00\u001b[0m\n",
            "\u001b[?25hCollecting clean-text (from textsum)\n",
            "  Downloading clean_text-0.6.0-py3-none-any.whl (11 kB)\n",
            "Collecting fire (from textsum)\n",
            "  Downloading fire-0.5.0.tar.gz (88 kB)\n",
            "\u001b[2K     \u001b[90m━━━━━━━━━━━━━━━━━━━━━━━━━━━━━━━━━━━━━━━━\u001b[0m \u001b[32m88.3/88.3 kB\u001b[0m \u001b[31m5.6 MB/s\u001b[0m eta \u001b[36m0:00:00\u001b[0m\n",
            "\u001b[?25h  Preparing metadata (setup.py) ... \u001b[?25l\u001b[?25hdone\n",
            "Requirement already satisfied: natsort in /usr/local/lib/python3.10/dist-packages (from textsum) (8.4.0)\n",
            "Requirement already satisfied: nltk in /usr/local/lib/python3.10/dist-packages (from textsum) (3.8.1)\n",
            "Requirement already satisfied: torch in /usr/local/lib/python3.10/dist-packages (from textsum) (2.1.0+cu118)\n",
            "Requirement already satisfied: tqdm in /usr/local/lib/python3.10/dist-packages (from textsum) (4.66.1)\n",
            "Collecting transformers>=4.26.0 (from textsum)\n",
            "  Downloading transformers-4.35.0-py3-none-any.whl (7.9 MB)\n",
            "\u001b[2K     \u001b[90m━━━━━━━━━━━━━━━━━━━━━━━━━━━━━━━━━━━━━━━━\u001b[0m \u001b[32m7.9/7.9 MB\u001b[0m \u001b[31m53.3 MB/s\u001b[0m eta \u001b[36m0:00:00\u001b[0m\n",
            "\u001b[?25hRequirement already satisfied: filelock in /usr/local/lib/python3.10/dist-packages (from transformers>=4.26.0->textsum) (3.13.1)\n",
            "Collecting huggingface-hub<1.0,>=0.16.4 (from transformers>=4.26.0->textsum)\n",
            "  Downloading huggingface_hub-0.19.0-py3-none-any.whl (311 kB)\n",
            "\u001b[2K     \u001b[90m━━━━━━━━━━━━━━━━━━━━━━━━━━━━━━━━━━━━━━━━\u001b[0m \u001b[32m311.2/311.2 kB\u001b[0m \u001b[31m32.2 MB/s\u001b[0m eta \u001b[36m0:00:00\u001b[0m\n",
            "\u001b[?25hRequirement already satisfied: numpy>=1.17 in /usr/local/lib/python3.10/dist-packages (from transformers>=4.26.0->textsum) (1.23.5)\n",
            "Requirement already satisfied: packaging>=20.0 in /usr/local/lib/python3.10/dist-packages (from transformers>=4.26.0->textsum) (23.2)\n",
            "Requirement already satisfied: pyyaml>=5.1 in /usr/local/lib/python3.10/dist-packages (from transformers>=4.26.0->textsum) (6.0.1)\n",
            "Requirement already satisfied: regex!=2019.12.17 in /usr/local/lib/python3.10/dist-packages (from transformers>=4.26.0->textsum) (2023.6.3)\n",
            "Requirement already satisfied: requests in /usr/local/lib/python3.10/dist-packages (from transformers>=4.26.0->textsum) (2.31.0)\n",
            "Collecting tokenizers<0.15,>=0.14 (from transformers>=4.26.0->textsum)\n",
            "  Downloading tokenizers-0.14.1-cp310-cp310-manylinux_2_17_x86_64.manylinux2014_x86_64.whl (3.8 MB)\n",
            "\u001b[2K     \u001b[90m━━━━━━━━━━━━━━━━━━━━━━━━━━━━━━━━━━━━━━━━\u001b[0m \u001b[32m3.8/3.8 MB\u001b[0m \u001b[31m89.3 MB/s\u001b[0m eta \u001b[36m0:00:00\u001b[0m\n",
            "\u001b[?25hCollecting safetensors>=0.3.1 (from transformers>=4.26.0->textsum)\n",
            "  Downloading safetensors-0.4.0-cp310-cp310-manylinux_2_17_x86_64.manylinux2014_x86_64.whl (1.3 MB)\n",
            "\u001b[2K     \u001b[90m━━━━━━━━━━━━━━━━━━━━━━━━━━━━━━━━━━━━━━━━\u001b[0m \u001b[32m1.3/1.3 MB\u001b[0m \u001b[31m69.5 MB/s\u001b[0m eta \u001b[36m0:00:00\u001b[0m\n",
            "\u001b[?25hRequirement already satisfied: psutil in /usr/local/lib/python3.10/dist-packages (from accelerate->textsum) (5.9.5)\n",
            "Requirement already satisfied: typing-extensions in /usr/local/lib/python3.10/dist-packages (from torch->textsum) (4.5.0)\n",
            "Requirement already satisfied: sympy in /usr/local/lib/python3.10/dist-packages (from torch->textsum) (1.12)\n",
            "Requirement already satisfied: networkx in /usr/local/lib/python3.10/dist-packages (from torch->textsum) (3.2.1)\n",
            "Requirement already satisfied: jinja2 in /usr/local/lib/python3.10/dist-packages (from torch->textsum) (3.1.2)\n",
            "Requirement already satisfied: fsspec in /usr/local/lib/python3.10/dist-packages (from torch->textsum) (2023.6.0)\n",
            "Requirement already satisfied: triton==2.1.0 in /usr/local/lib/python3.10/dist-packages (from torch->textsum) (2.1.0)\n",
            "Collecting emoji<2.0.0,>=1.0.0 (from clean-text->textsum)\n",
            "  Downloading emoji-1.7.0.tar.gz (175 kB)\n",
            "\u001b[2K     \u001b[90m━━━━━━━━━━━━━━━━━━━━━━━━━━━━━━━━━━━━━━━━\u001b[0m \u001b[32m175.4/175.4 kB\u001b[0m \u001b[31m21.0 MB/s\u001b[0m eta \u001b[36m0:00:00\u001b[0m\n",
            "\u001b[?25h  Preparing metadata (setup.py) ... \u001b[?25l\u001b[?25hdone\n",
            "Collecting ftfy<7.0,>=6.0 (from clean-text->textsum)\n",
            "  Downloading ftfy-6.1.1-py3-none-any.whl (53 kB)\n",
            "\u001b[2K     \u001b[90m━━━━━━━━━━━━━━━━━━━━━━━━━━━━━━━━━━━━━━━━\u001b[0m \u001b[32m53.1/53.1 kB\u001b[0m \u001b[31m6.7 MB/s\u001b[0m eta \u001b[36m0:00:00\u001b[0m\n",
            "\u001b[?25hRequirement already satisfied: six in /usr/local/lib/python3.10/dist-packages (from fire->textsum) (1.16.0)\n",
            "Requirement already satisfied: termcolor in /usr/local/lib/python3.10/dist-packages (from fire->textsum) (2.3.0)\n",
            "Requirement already satisfied: click in /usr/local/lib/python3.10/dist-packages (from nltk->textsum) (8.1.7)\n",
            "Requirement already satisfied: joblib in /usr/local/lib/python3.10/dist-packages (from nltk->textsum) (1.3.2)\n",
            "Requirement already satisfied: wcwidth>=0.2.5 in /usr/local/lib/python3.10/dist-packages (from ftfy<7.0,>=6.0->clean-text->textsum) (0.2.9)\n",
            "Collecting huggingface-hub<1.0,>=0.16.4 (from transformers>=4.26.0->textsum)\n",
            "  Downloading huggingface_hub-0.17.3-py3-none-any.whl (295 kB)\n",
            "\u001b[2K     \u001b[90m━━━━━━━━━━━━━━━━━━━━━━━━━━━━━━━━━━━━━━━━\u001b[0m \u001b[32m295.0/295.0 kB\u001b[0m \u001b[31m26.0 MB/s\u001b[0m eta \u001b[36m0:00:00\u001b[0m\n",
            "\u001b[?25hRequirement already satisfied: MarkupSafe>=2.0 in /usr/local/lib/python3.10/dist-packages (from jinja2->torch->textsum) (2.1.3)\n",
            "Requirement already satisfied: charset-normalizer<4,>=2 in /usr/local/lib/python3.10/dist-packages (from requests->transformers>=4.26.0->textsum) (3.3.2)\n",
            "Requirement already satisfied: idna<4,>=2.5 in /usr/local/lib/python3.10/dist-packages (from requests->transformers>=4.26.0->textsum) (3.4)\n",
            "Requirement already satisfied: urllib3<3,>=1.21.1 in /usr/local/lib/python3.10/dist-packages (from requests->transformers>=4.26.0->textsum) (2.0.7)\n",
            "Requirement already satisfied: certifi>=2017.4.17 in /usr/local/lib/python3.10/dist-packages (from requests->transformers>=4.26.0->textsum) (2023.7.22)\n",
            "Requirement already satisfied: mpmath>=0.19 in /usr/local/lib/python3.10/dist-packages (from sympy->torch->textsum) (1.3.0)\n",
            "Building wheels for collected packages: fire, emoji\n",
            "  Building wheel for fire (setup.py) ... \u001b[?25l\u001b[?25hdone\n",
            "  Created wheel for fire: filename=fire-0.5.0-py2.py3-none-any.whl size=116933 sha256=4b3dba4c708d6b22c803a305af10105b75e4fbe95161b5ef787c9bc85939e325\n",
            "  Stored in directory: /root/.cache/pip/wheels/90/d4/f7/9404e5db0116bd4d43e5666eaa3e70ab53723e1e3ea40c9a95\n",
            "  Building wheel for emoji (setup.py) ... \u001b[?25l\u001b[?25hdone\n",
            "  Created wheel for emoji: filename=emoji-1.7.0-py3-none-any.whl size=171031 sha256=6dd79022115b008ede8a8b2f4d05f71d1e978fa6f0da9f0c48d493f1249eec02\n",
            "  Stored in directory: /root/.cache/pip/wheels/31/8a/8c/315c9e5d7773f74b33d5ed33f075b49c6eaeb7cedbb86e2cf8\n",
            "Successfully built fire emoji\n",
            "Installing collected packages: emoji, safetensors, ftfy, fire, huggingface-hub, clean-text, tokenizers, accelerate, transformers, textsum\n",
            "Successfully installed accelerate-0.24.1 clean-text-0.6.0 emoji-1.7.0 fire-0.5.0 ftfy-6.1.1 huggingface-hub-0.17.3 safetensors-0.4.0 textsum-0.2.0 tokenizers-0.14.1 transformers-4.35.0\n"
          ]
        }
      ]
    },
    {
      "cell_type": "code",
      "source": [
        "!pip3 install torch torchvision torchaudio --index-url https://download.pytorch.org/whl/cu121"
      ],
      "metadata": {
        "id": "q9oAwWpZ6xWj",
        "colab": {
          "base_uri": "https://localhost:8080/"
        },
        "outputId": "f603f8e4-2210-44fe-f3c8-682115aed5ea"
      },
      "execution_count": null,
      "outputs": [
        {
          "output_type": "stream",
          "name": "stdout",
          "text": [
            "Looking in indexes: https://download.pytorch.org/whl/cu121\n",
            "Requirement already satisfied: torch in /usr/local/lib/python3.10/dist-packages (2.1.0+cu118)\n",
            "Requirement already satisfied: torchvision in /usr/local/lib/python3.10/dist-packages (0.16.0+cu118)\n",
            "Requirement already satisfied: torchaudio in /usr/local/lib/python3.10/dist-packages (2.1.0+cu118)\n",
            "Requirement already satisfied: filelock in /usr/local/lib/python3.10/dist-packages (from torch) (3.13.1)\n",
            "Requirement already satisfied: typing-extensions in /usr/local/lib/python3.10/dist-packages (from torch) (4.5.0)\n",
            "Requirement already satisfied: sympy in /usr/local/lib/python3.10/dist-packages (from torch) (1.12)\n",
            "Requirement already satisfied: networkx in /usr/local/lib/python3.10/dist-packages (from torch) (3.2.1)\n",
            "Requirement already satisfied: jinja2 in /usr/local/lib/python3.10/dist-packages (from torch) (3.1.2)\n",
            "Requirement already satisfied: fsspec in /usr/local/lib/python3.10/dist-packages (from torch) (2023.6.0)\n",
            "Requirement already satisfied: triton==2.1.0 in /usr/local/lib/python3.10/dist-packages (from torch) (2.1.0)\n",
            "Requirement already satisfied: numpy in /usr/local/lib/python3.10/dist-packages (from torchvision) (1.23.5)\n",
            "Requirement already satisfied: requests in /usr/local/lib/python3.10/dist-packages (from torchvision) (2.31.0)\n",
            "Requirement already satisfied: pillow!=8.3.*,>=5.3.0 in /usr/local/lib/python3.10/dist-packages (from torchvision) (9.4.0)\n",
            "Requirement already satisfied: MarkupSafe>=2.0 in /usr/local/lib/python3.10/dist-packages (from jinja2->torch) (2.1.3)\n",
            "Requirement already satisfied: charset-normalizer<4,>=2 in /usr/local/lib/python3.10/dist-packages (from requests->torchvision) (3.3.2)\n",
            "Requirement already satisfied: idna<4,>=2.5 in /usr/local/lib/python3.10/dist-packages (from requests->torchvision) (3.4)\n",
            "Requirement already satisfied: urllib3<3,>=1.21.1 in /usr/local/lib/python3.10/dist-packages (from requests->torchvision) (2.0.7)\n",
            "Requirement already satisfied: certifi>=2017.4.17 in /usr/local/lib/python3.10/dist-packages (from requests->torchvision) (2023.7.22)\n",
            "Requirement already satisfied: mpmath>=0.19 in /usr/local/lib/python3.10/dist-packages (from sympy->torch) (1.3.0)\n"
          ]
        }
      ]
    },
    {
      "cell_type": "code",
      "source": [
        "!pip install transformers requests beautifulsoup4 pandas numpy"
      ],
      "metadata": {
        "colab": {
          "base_uri": "https://localhost:8080/"
        },
        "id": "l6CZ_cxvB_7E",
        "outputId": "7e35f068-a662-422c-ecc6-e7400fc8ebbe"
      },
      "execution_count": null,
      "outputs": [
        {
          "output_type": "stream",
          "name": "stdout",
          "text": [
            "Requirement already satisfied: transformers in /usr/local/lib/python3.10/dist-packages (4.35.0)\n",
            "Requirement already satisfied: requests in /usr/local/lib/python3.10/dist-packages (2.31.0)\n",
            "Requirement already satisfied: beautifulsoup4 in /usr/local/lib/python3.10/dist-packages (4.11.2)\n",
            "Requirement already satisfied: pandas in /usr/local/lib/python3.10/dist-packages (1.5.3)\n",
            "Requirement already satisfied: numpy in /usr/local/lib/python3.10/dist-packages (1.23.5)\n",
            "Requirement already satisfied: filelock in /usr/local/lib/python3.10/dist-packages (from transformers) (3.13.1)\n",
            "Requirement already satisfied: huggingface-hub<1.0,>=0.16.4 in /usr/local/lib/python3.10/dist-packages (from transformers) (0.17.3)\n",
            "Requirement already satisfied: packaging>=20.0 in /usr/local/lib/python3.10/dist-packages (from transformers) (23.2)\n",
            "Requirement already satisfied: pyyaml>=5.1 in /usr/local/lib/python3.10/dist-packages (from transformers) (6.0.1)\n",
            "Requirement already satisfied: regex!=2019.12.17 in /usr/local/lib/python3.10/dist-packages (from transformers) (2023.6.3)\n",
            "Requirement already satisfied: tokenizers<0.15,>=0.14 in /usr/local/lib/python3.10/dist-packages (from transformers) (0.14.1)\n",
            "Requirement already satisfied: safetensors>=0.3.1 in /usr/local/lib/python3.10/dist-packages (from transformers) (0.4.0)\n",
            "Requirement already satisfied: tqdm>=4.27 in /usr/local/lib/python3.10/dist-packages (from transformers) (4.66.1)\n",
            "Requirement already satisfied: charset-normalizer<4,>=2 in /usr/local/lib/python3.10/dist-packages (from requests) (3.3.2)\n",
            "Requirement already satisfied: idna<4,>=2.5 in /usr/local/lib/python3.10/dist-packages (from requests) (3.4)\n",
            "Requirement already satisfied: urllib3<3,>=1.21.1 in /usr/local/lib/python3.10/dist-packages (from requests) (2.0.7)\n",
            "Requirement already satisfied: certifi>=2017.4.17 in /usr/local/lib/python3.10/dist-packages (from requests) (2023.7.22)\n",
            "Requirement already satisfied: soupsieve>1.2 in /usr/local/lib/python3.10/dist-packages (from beautifulsoup4) (2.5)\n",
            "Requirement already satisfied: python-dateutil>=2.8.1 in /usr/local/lib/python3.10/dist-packages (from pandas) (2.8.2)\n",
            "Requirement already satisfied: pytz>=2020.1 in /usr/local/lib/python3.10/dist-packages (from pandas) (2023.3.post1)\n",
            "Requirement already satisfied: fsspec in /usr/local/lib/python3.10/dist-packages (from huggingface-hub<1.0,>=0.16.4->transformers) (2023.6.0)\n",
            "Requirement already satisfied: typing-extensions>=3.7.4.3 in /usr/local/lib/python3.10/dist-packages (from huggingface-hub<1.0,>=0.16.4->transformers) (4.5.0)\n",
            "Requirement already satisfied: six>=1.5 in /usr/local/lib/python3.10/dist-packages (from python-dateutil>=2.8.1->pandas) (1.16.0)\n"
          ]
        }
      ]
    },
    {
      "cell_type": "code",
      "source": [
        "from transformers import AutoTokenizer, AutoModelForSequenceClassification\n",
        "import torch\n",
        "import requests\n",
        "from bs4 import BeautifulSoup\n",
        "import re"
      ],
      "metadata": {
        "id": "MSlMJ9f5CqIh"
      },
      "execution_count": null,
      "outputs": []
    },
    {
      "cell_type": "markdown",
      "source": [
        "##Instantiate Model"
      ],
      "metadata": {
        "id": "ts2WchgSD_-q"
      }
    },
    {
      "cell_type": "code",
      "source": [
        "tokenizer = AutoTokenizer.from_pretrained('nlptown/bert-base-multilingual-uncased-sentiment')\n",
        "model = AutoModelForSequenceClassification.from_pretrained('nlptown/bert-base-multilingual-uncased-sentiment')"
      ],
      "metadata": {
        "colab": {
          "base_uri": "https://localhost:8080/",
          "height": 177,
          "referenced_widgets": [
            "a2b9b3e723da48ef913c24776a466db3",
            "5170540cc0f24d369747f7e44b9326a7",
            "1218b03c6f9f490093ac3f38497525be",
            "e48ffd84d3ab437691f0d9cc1e04af31",
            "22dfe2bbf0af4c488faf012977b9f98d",
            "ad4e4fb1eca942d58ad51f4f9d4112f0",
            "2b5536555427423faf1283359cca4f0a",
            "6350327677c74039b9aeee6723be6360",
            "bf837f92a94244b688211746680a1357",
            "f62443743f9040cd80785cc396a1973a",
            "7c6575c80b2947a4a0b90daea8c5650f",
            "83975ffb4bac4e2caa67647f9f9dbb3a",
            "6acf7f98b8294d2ea0d54e4eb5a58743",
            "6c2eb3dab5924e39be3b65548e190bc9",
            "9af8327dc300451d8c9a680ebc6e584f",
            "ea2bf6defa5f4a64b4682a5e2c0f298f",
            "a9895f16cd624301848feecccb7c3f6c",
            "91cfa05ac44f489dbd287dd56be4db53",
            "6e77a49ec67145a59a17afa3d49a9972",
            "d59e07aaf1b346d7bb15d02cb3f5c089",
            "829cf90fdd8e43b680d5b3da22657863",
            "6f8f74b186ed4104ac3957c9426e7aec",
            "4c8590d4fc864e62a6d7ad5b02c61220",
            "72d3249d0dd44046a4fdfaa7e7d97aff",
            "4eb99d5b0d5c45168fa0e794b7c1ebaf",
            "315241e1246843a29cba928f90d95c67",
            "99e265c373fd4298b8cf9e051acf692a",
            "ec9e0c1fd5204bb5a4d576c77e93bd1a",
            "a9c4dfdac7f34d8ca5d35b91b4619aa8",
            "2ba2e2106b394f76a1e2f2867f3b70dd",
            "411adbb6cbc0430cb63af7fc0c7b8948",
            "3e5dc3abd7804052919bc3c3d4080abf",
            "9df04c90f43e49588fb889b3fcf5d598",
            "d3e157e395d84c3fa8f4b45528ba4700",
            "bd8b24c0c3bc4786aaa3e3eca3031065",
            "fda7a79323b14085977de847a83b2d26",
            "bdf8cf003c2a450cad4605630ff4d2a5",
            "1def2f8d72f74e99be066d5d4f29577a",
            "a7c67e02b75144a3b392ebb9a62a84f4",
            "1a8be6d9044d42f48c2ce930eb227373",
            "69bbe237d36144119277dd67b497150b",
            "80a132943c8e4765a0e44fbf769dc301",
            "a57c81c1f1e540589a8743167799c115",
            "598460c2b91a4fbeb24f9b3aaed7a73f",
            "1dc2d141b8fe489fbbb79ef41790de83",
            "2991a887acfa42c79dde6557f0e6e7f8",
            "f5dc94cd0bb4490c9e04837568dc990f",
            "56e48a21eb144b309b6654788c37d68e",
            "2f520d7b5b4048c0a65a757d84d911de",
            "1264c382381e4373806b4f86036317e4",
            "1ed1b8013b2049edb87f566208e4ac29",
            "7aa54783af70443e93e00a9ac10080e0",
            "598241d89ac944b38fc8f8b6bd91be48",
            "7f4586722a0b43a0a5b6818deaac9527",
            "74089ef1148348b88ae2737042972f85"
          ]
        },
        "id": "5uK2lRd5D9hn",
        "outputId": "35258690-691a-45da-ee1a-e1d8a2ff0551"
      },
      "execution_count": null,
      "outputs": [
        {
          "output_type": "display_data",
          "data": {
            "text/plain": [
              "Downloading (…)okenizer_config.json:   0%|          | 0.00/39.0 [00:00<?, ?B/s]"
            ],
            "application/vnd.jupyter.widget-view+json": {
              "version_major": 2,
              "version_minor": 0,
              "model_id": "a2b9b3e723da48ef913c24776a466db3"
            }
          },
          "metadata": {}
        },
        {
          "output_type": "display_data",
          "data": {
            "text/plain": [
              "Downloading (…)lve/main/config.json:   0%|          | 0.00/953 [00:00<?, ?B/s]"
            ],
            "application/vnd.jupyter.widget-view+json": {
              "version_major": 2,
              "version_minor": 0,
              "model_id": "83975ffb4bac4e2caa67647f9f9dbb3a"
            }
          },
          "metadata": {}
        },
        {
          "output_type": "display_data",
          "data": {
            "text/plain": [
              "Downloading (…)solve/main/vocab.txt:   0%|          | 0.00/872k [00:00<?, ?B/s]"
            ],
            "application/vnd.jupyter.widget-view+json": {
              "version_major": 2,
              "version_minor": 0,
              "model_id": "4c8590d4fc864e62a6d7ad5b02c61220"
            }
          },
          "metadata": {}
        },
        {
          "output_type": "display_data",
          "data": {
            "text/plain": [
              "Downloading (…)cial_tokens_map.json:   0%|          | 0.00/112 [00:00<?, ?B/s]"
            ],
            "application/vnd.jupyter.widget-view+json": {
              "version_major": 2,
              "version_minor": 0,
              "model_id": "d3e157e395d84c3fa8f4b45528ba4700"
            }
          },
          "metadata": {}
        },
        {
          "output_type": "display_data",
          "data": {
            "text/plain": [
              "Downloading pytorch_model.bin:   0%|          | 0.00/669M [00:00<?, ?B/s]"
            ],
            "application/vnd.jupyter.widget-view+json": {
              "version_major": 2,
              "version_minor": 0,
              "model_id": "1dc2d141b8fe489fbbb79ef41790de83"
            }
          },
          "metadata": {}
        }
      ]
    },
    {
      "cell_type": "markdown",
      "source": [
        "##Encode and Calculate Sentiment"
      ],
      "metadata": {
        "id": "MHQLtYt2HvHI"
      }
    },
    {
      "cell_type": "code",
      "source": [
        "from textsum.summarize import Summarizer\n",
        "\n",
        "model_name = \"pszemraj/led-large-book-summary\"\n",
        "summarizer = Summarizer(\n",
        "    model_name_or_path = model_name,\n",
        "    token_batch_length=4096,\n",
        ")"
      ],
      "metadata": {
        "colab": {
          "base_uri": "https://localhost:8080/",
          "height": 278,
          "referenced_widgets": [
            "f01f4f65713d41c582cb690a604acb12",
            "1ed9b84543624ef1853f3919556bcd26",
            "657f6dcf57ad415eb4708a562c7d5cef",
            "c28fba67b32341949e735ee8619d870d",
            "0301984ae8ed4125b8e8a6ad65479d7d",
            "5a06a86ab2804090ba3b35ebb5e2199b",
            "8476aabed4f44f7d9b7855ad41c98770",
            "a13175018cd0439b94316024ff068008",
            "5474d06b200f4774af7f8c3aa595ff3a",
            "08fc83d3e7fe406f9569d145068ba9af",
            "42db6910ceb2470a8aaab10ea575365d",
            "0cd856acecbc45d89a6808cfa5e0c536",
            "d46d59097a0443b19a718f757ef409b0",
            "7695e1dd24db437fbc45d6606caeed08",
            "be25486392d8461bbce62b1d55cb1121",
            "fdadcf0d38e7456d8ea3c1aed8b47fa6",
            "126882d40afd41dc9046de15025b6df2",
            "34f024564726471dabb8bf16094cbd8d",
            "03bb1572292345bab04c668b2f0bf107",
            "ce6ced101b0b41d0928d9f67f6d6655e",
            "441e18a800664a6293ecb1e4865e4b02",
            "dea0e726a71541659ea743adfc87e1d0",
            "04f3d0917e44429a8e6b6999787e2c15",
            "fab1747d300e4250b7643ac0399638f1",
            "f9556485b98546208e46bdec82335428",
            "9493e87452ab41c4991d81ff9fedc967",
            "a448bbd7c9be45978505dfe7bf5d10df",
            "d4084bc304da4350946744d62cf948c2",
            "650ea3091ab3441a882f253054e3ad31",
            "a82105b380844646837450a8707904dd",
            "abc93ba14db845c99ebc966e009bc32e",
            "1c0bb050c6094173b10a7d3afcea9bf8",
            "f7103c9d51814b33b0a30026363f70a4",
            "8c45e0e690274fa2a9307805b7e81000",
            "c3c76ff002434271bb663220f4644d9a",
            "f5391d4afc294dccab0bcf774e5ea3e6",
            "abc8c102e6b044238ee63bf3e04d7b79",
            "aeee0ba05c484854a095f85216ebf7fb",
            "b642c26b62874cf4b551b075ae3ea09b",
            "60332fbb994d43cc937b07206cc54ab8",
            "d5acfd4f5d2e419da0b0afb550c5cacb",
            "405b0cd184084080b022c3ef372d5e5c",
            "75b7f8e621f74d2182322f65bdc76726",
            "e3fb89dfea3e43ceb25e56f3121efcba",
            "211ec155335f4b4eaf7eb8b8b0a10087",
            "4e070c4e6f1c460a961552ce61388333",
            "09fe9ce81410448b98b26c525b7806df",
            "0c7019b132304b30a229a51d59a2aff8",
            "a5df88d28f434822aa31629578ad0401",
            "33e5112ed6d84c789db33a63a17be63f",
            "bec561219c674f208d59dada956ac589",
            "fa78957b85cc4b38af18e7420ad373b1",
            "fd1c43f7989343b19d2197dbc3876d71",
            "22fb9aaa34434f7eb9ecda4f9bf40b15",
            "3ad26295b64548b48805139eae2775e3",
            "32453c716a8a4edbb5dea2874a524395",
            "cdb95ded640d47b5bb7dae4f2d6d57fb",
            "3475c3a22ce4401c8340b344c1d45e8a",
            "4df471bcbcfe48dbb5f8b271d7c0cd49",
            "2274f6524c8745c483572b3a1adf1454",
            "24b6bdbb79d34500bda8102df810d655",
            "a2b9c0549d264a3eac8410b740dedb8a",
            "a180282c1a4e4e7f81e68743da37f1fd",
            "f816148d0c664c8199643780ae882490",
            "4a66056601754f19a485fda0582a66e1",
            "c7c2a62b67394e9c926eeac6cf3c15ee",
            "97c8f07e9de2444ca3a54eaf7b568866",
            "0222d7d92c734ee0a095de4df0e5df92",
            "f6fd77d304144016a26e2d87749d15e7",
            "1d204580a4ea4209b66821fcc7fc964a",
            "b1fe06a6bb6b406aa73142a35023ef1d",
            "3994bb5b014d46fd819b4bbad8beb646",
            "648f09ea238e47f38b802a4f7057599a",
            "f8c57b9eb134439b830311e4325e367d",
            "76510e044eda4136abeb4480f5cbfee0",
            "748cda88ef3e4b9580593bb984b178e9",
            "f17078f062c541cba06dd6a66e3da955"
          ]
        },
        "id": "xc4VIndAw-XF",
        "outputId": "b929d4f1-9e4f-46b4-d367-ae839a76f067"
      },
      "execution_count": null,
      "outputs": [
        {
          "output_type": "stream",
          "name": "stderr",
          "text": [
            "WARNING:root:Since the GPL-licensed package `unidecode` is not installed, using Python's `unicodedata` package which yields worse results.\n"
          ]
        },
        {
          "output_type": "display_data",
          "data": {
            "text/plain": [
              "Downloading (…)lve/main/config.json:   0%|          | 0.00/1.44k [00:00<?, ?B/s]"
            ],
            "application/vnd.jupyter.widget-view+json": {
              "version_major": 2,
              "version_minor": 0,
              "model_id": "f01f4f65713d41c582cb690a604acb12"
            }
          },
          "metadata": {}
        },
        {
          "output_type": "display_data",
          "data": {
            "text/plain": [
              "Downloading model.safetensors:   0%|          | 0.00/1.84G [00:00<?, ?B/s]"
            ],
            "application/vnd.jupyter.widget-view+json": {
              "version_major": 2,
              "version_minor": 0,
              "model_id": "0cd856acecbc45d89a6808cfa5e0c536"
            }
          },
          "metadata": {}
        },
        {
          "output_type": "display_data",
          "data": {
            "text/plain": [
              "Downloading (…)okenizer_config.json:   0%|          | 0.00/1.32k [00:00<?, ?B/s]"
            ],
            "application/vnd.jupyter.widget-view+json": {
              "version_major": 2,
              "version_minor": 0,
              "model_id": "04f3d0917e44429a8e6b6999787e2c15"
            }
          },
          "metadata": {}
        },
        {
          "output_type": "display_data",
          "data": {
            "text/plain": [
              "Downloading (…)olve/main/vocab.json:   0%|          | 0.00/798k [00:00<?, ?B/s]"
            ],
            "application/vnd.jupyter.widget-view+json": {
              "version_major": 2,
              "version_minor": 0,
              "model_id": "8c45e0e690274fa2a9307805b7e81000"
            }
          },
          "metadata": {}
        },
        {
          "output_type": "display_data",
          "data": {
            "text/plain": [
              "Downloading (…)olve/main/merges.txt:   0%|          | 0.00/456k [00:00<?, ?B/s]"
            ],
            "application/vnd.jupyter.widget-view+json": {
              "version_major": 2,
              "version_minor": 0,
              "model_id": "211ec155335f4b4eaf7eb8b8b0a10087"
            }
          },
          "metadata": {}
        },
        {
          "output_type": "display_data",
          "data": {
            "text/plain": [
              "Downloading (…)/main/tokenizer.json:   0%|          | 0.00/2.11M [00:00<?, ?B/s]"
            ],
            "application/vnd.jupyter.widget-view+json": {
              "version_major": 2,
              "version_minor": 0,
              "model_id": "32453c716a8a4edbb5dea2874a524395"
            }
          },
          "metadata": {}
        },
        {
          "output_type": "display_data",
          "data": {
            "text/plain": [
              "Downloading (…)cial_tokens_map.json:   0%|          | 0.00/772 [00:00<?, ?B/s]"
            ],
            "application/vnd.jupyter.widget-view+json": {
              "version_major": 2,
              "version_minor": 0,
              "model_id": "97c8f07e9de2444ca3a54eaf7b568866"
            }
          },
          "metadata": {}
        }
      ]
    },
    {
      "cell_type": "code",
      "source": [
        "long_string = \"\"\"Food was terrible\"\"\"\n",
        "\n",
        "out_str = summarizer.summarize_string(long_string)\n",
        "print(out_str)"
      ],
      "metadata": {
        "colab": {
          "base_uri": "https://localhost:8080/",
          "height": 66,
          "referenced_widgets": [
            "3c349eb83f25473397ff2bd7d2bdd4bf",
            "86a7a37d9f20450d9504204f03265397",
            "b9aa0c82f34d4f13958921f5182a03fd",
            "ad347201c33a422193d5b93819dacfbc",
            "64e01cf95ac341cbaba8c7cf380b76bc",
            "8cc039cb53e34579aa720988eb8c8854",
            "ce57b12171e74e4ca60671ba2e6391f0",
            "e6d0826c451f4154962d201194d2c80e",
            "ea5ceefd26ae4a37a4432b44e319eb56",
            "4ac6d8f5388f493ea8ece4c6e8d5181b",
            "0a6469d9a3664299977cb87b59e857e7"
          ]
        },
        "id": "dLbn24840s1F",
        "outputId": "280857a5-0afc-4f71-ab04-deb8f3582ad0"
      },
      "execution_count": null,
      "outputs": [
        {
          "output_type": "display_data",
          "data": {
            "text/plain": [
              "Generating Summaries:   0%|          | 0/1 [00:00<?, ?it/s]"
            ],
            "application/vnd.jupyter.widget-view+json": {
              "version_major": 2,
              "version_minor": 0,
              "model_id": "3c349eb83f25473397ff2bd7d2bdd4bf"
            }
          },
          "metadata": {}
        },
        {
          "output_type": "stream",
          "name": "stdout",
          "text": [
            "The narrator says that the food was terrible\n"
          ]
        }
      ]
    },
    {
      "cell_type": "code",
      "source": [
        "tokens = tokenizer.encode(out_str,return_tensors='pt')"
      ],
      "metadata": {
        "id": "gJCV7bgkHufC"
      },
      "execution_count": null,
      "outputs": []
    },
    {
      "cell_type": "code",
      "source": [
        "result = model(tokens)"
      ],
      "metadata": {
        "id": "SOvm0ZNdIC7m"
      },
      "execution_count": null,
      "outputs": []
    },
    {
      "cell_type": "code",
      "source": [
        "result.logits"
      ],
      "metadata": {
        "colab": {
          "base_uri": "https://localhost:8080/"
        },
        "id": "UepFsyLYIF0P",
        "outputId": "ae93e208-e159-4577-e8b6-be54a0d0fac6"
      },
      "execution_count": null,
      "outputs": [
        {
          "output_type": "execute_result",
          "data": {
            "text/plain": [
              "tensor([[ 3.2962,  0.6633, -3.8086]], grad_fn=<AddmmBackward0>)"
            ]
          },
          "metadata": {},
          "execution_count": 123
        }
      ]
    },
    {
      "cell_type": "code",
      "source": [
        "int(torch.argmax(result.logits))+1 #FOLLOWING DIDNT WORK NICE TRY THOUGH"
      ],
      "metadata": {
        "colab": {
          "base_uri": "https://localhost:8080/"
        },
        "id": "ceKlnmNSIv_D",
        "outputId": "af29797f-bb29-4054-8982-2fa46c26f610"
      },
      "execution_count": null,
      "outputs": [
        {
          "output_type": "execute_result",
          "data": {
            "text/plain": [
              "1"
            ]
          },
          "metadata": {},
          "execution_count": 124
        }
      ]
    },
    {
      "cell_type": "markdown",
      "source": [
        "##Scrape Data"
      ],
      "metadata": {
        "id": "2zZ54c2PKrrI"
      }
    },
    {
      "cell_type": "code",
      "source": [],
      "metadata": {
        "id": "lDtbnxtt6CV3"
      },
      "execution_count": null,
      "outputs": []
    },
    {
      "cell_type": "markdown",
      "source": [
        "#Financial Sentiment(Using Financial model)"
      ],
      "metadata": {
        "id": "kX1LRwtj5bQ8"
      }
    },
    {
      "cell_type": "code",
      "source": [
        "# Load model directly\n",
        "from transformers import AutoTokenizer, AutoModelForSequenceClassification\n",
        "\n",
        "tokenizer_fin = AutoTokenizer.from_pretrained(\"mrm8488/distilroberta-finetuned-financial-news-sentiment-analysis\")\n",
        "model_fin = AutoModelForSequenceClassification.from_pretrained(\"mrm8488/distilroberta-finetuned-financial-news-sentiment-analysis\")\n",
        "print(model_fin.config)"
      ],
      "metadata": {
        "colab": {
          "base_uri": "https://localhost:8080/"
        },
        "id": "1mvBxnQE5pbw",
        "outputId": "63967306-3172-4000-c2b6-3bcbfb59c923"
      },
      "execution_count": null,
      "outputs": [
        {
          "output_type": "stream",
          "name": "stdout",
          "text": [
            "RobertaConfig {\n",
            "  \"_name_or_path\": \"mrm8488/distilroberta-finetuned-financial-news-sentiment-analysis\",\n",
            "  \"architectures\": [\n",
            "    \"RobertaForSequenceClassification\"\n",
            "  ],\n",
            "  \"attention_probs_dropout_prob\": 0.1,\n",
            "  \"bos_token_id\": 0,\n",
            "  \"classifier_dropout\": null,\n",
            "  \"eos_token_id\": 2,\n",
            "  \"gradient_checkpointing\": false,\n",
            "  \"hidden_act\": \"gelu\",\n",
            "  \"hidden_dropout_prob\": 0.1,\n",
            "  \"hidden_size\": 768,\n",
            "  \"id2label\": {\n",
            "    \"0\": \"negative\",\n",
            "    \"1\": \"neutral\",\n",
            "    \"2\": \"positive\"\n",
            "  },\n",
            "  \"initializer_range\": 0.02,\n",
            "  \"intermediate_size\": 3072,\n",
            "  \"label2id\": {\n",
            "    \"negative\": 0,\n",
            "    \"neutral\": 1,\n",
            "    \"positive\": 2\n",
            "  },\n",
            "  \"layer_norm_eps\": 1e-05,\n",
            "  \"max_position_embeddings\": 514,\n",
            "  \"model_type\": \"roberta\",\n",
            "  \"num_attention_heads\": 12,\n",
            "  \"num_hidden_layers\": 6,\n",
            "  \"pad_token_id\": 1,\n",
            "  \"position_embedding_type\": \"absolute\",\n",
            "  \"problem_type\": \"single_label_classification\",\n",
            "  \"torch_dtype\": \"float32\",\n",
            "  \"transformers_version\": \"4.35.0\",\n",
            "  \"type_vocab_size\": 1,\n",
            "  \"use_cache\": true,\n",
            "  \"vocab_size\": 50265\n",
            "}\n",
            "\n"
          ]
        }
      ]
    },
    {
      "cell_type": "markdown",
      "source": [
        "##Summary generation (same as above tbh)"
      ],
      "metadata": {
        "id": "ExPlyOoCjWoS"
      }
    },
    {
      "cell_type": "code",
      "source": [],
      "metadata": {
        "id": "Oak2KtAkjaL_"
      },
      "execution_count": null,
      "outputs": []
    },
    {
      "cell_type": "markdown",
      "source": [
        "##Financial Sentiment"
      ],
      "metadata": {
        "id": "A5MpyM4NjNHh"
      }
    },
    {
      "cell_type": "code",
      "source": [
        "tokens = tokenizer_fin.encode(out_str,return_tensors='pt')"
      ],
      "metadata": {
        "id": "5gGbCJ1w60h6"
      },
      "execution_count": null,
      "outputs": []
    },
    {
      "cell_type": "code",
      "source": [
        "result = model_fin(tokens)"
      ],
      "metadata": {
        "id": "AtKD8LRx_WkO"
      },
      "execution_count": null,
      "outputs": []
    },
    {
      "cell_type": "code",
      "source": [
        "print(dir(result))\n",
        "print(result.logits)\n",
        "print(softmaxxed)"
      ],
      "metadata": {
        "colab": {
          "base_uri": "https://localhost:8080/"
        },
        "id": "I_ppumFB_W4y",
        "outputId": "cf097566-fba7-4aee-f26f-50696838e39d"
      },
      "execution_count": null,
      "outputs": [
        {
          "output_type": "stream",
          "name": "stdout",
          "text": [
            "['__annotations__', '__class__', '__class_getitem__', '__contains__', '__dataclass_fields__', '__dataclass_params__', '__delattr__', '__delitem__', '__dict__', '__dir__', '__doc__', '__eq__', '__format__', '__ge__', '__getattribute__', '__getitem__', '__gt__', '__hash__', '__init__', '__init_subclass__', '__ior__', '__iter__', '__le__', '__len__', '__lt__', '__match_args__', '__module__', '__ne__', '__new__', '__or__', '__post_init__', '__reduce__', '__reduce_ex__', '__repr__', '__reversed__', '__ror__', '__setattr__', '__setitem__', '__sizeof__', '__str__', '__subclasshook__', 'attentions', 'clear', 'copy', 'fromkeys', 'get', 'hidden_states', 'items', 'keys', 'logits', 'loss', 'move_to_end', 'pop', 'popitem', 'setdefault', 'to_tuple', 'update', 'values']\n",
            "tensor([[ 3.2962,  0.6633, -3.8086]], grad_fn=<AddmmBackward0>)\n",
            "tensor([[2.8970e-04, 8.8624e-05, 9.9962e-01]], grad_fn=<SoftmaxBackward0>)\n"
          ]
        }
      ]
    },
    {
      "cell_type": "code",
      "source": [
        "int(torch.argmax(result.logits)) #    \"negative\": 0, \"neutral\": 1, \"positive\": 2"
      ],
      "metadata": {
        "colab": {
          "base_uri": "https://localhost:8080/"
        },
        "id": "HEWXPqNF_W98",
        "outputId": "5b9b365c-1342-4cd1-c1a8-fc350d9624a6"
      },
      "execution_count": null,
      "outputs": [
        {
          "output_type": "execute_result",
          "data": {
            "text/plain": [
              "0"
            ]
          },
          "metadata": {},
          "execution_count": 130
        }
      ]
    },
    {
      "cell_type": "markdown",
      "source": [
        "##Softmaxing"
      ],
      "metadata": {
        "id": "03bXM7ckoMaF"
      }
    },
    {
      "cell_type": "code",
      "source": [
        "import torch\n",
        "import matplotlib.pyplot as plt\n",
        "temprature = 1.0\n",
        "logits = result.logits\n",
        "softmaxxed = torch.nn.functional.softmax(result.logits / temprature ,dim=1)\n",
        "\n",
        "print(logits)\n",
        "print(softmaxxed)\n",
        "classes = ['Negative','Neutral','Positive']\n",
        "\n",
        "plt.bar(classes, softmaxxed.squeeze().detach().numpy())\n",
        "plt.xlabel(\"Sentiments\")\n",
        "plt.ylabel(\"Probabs\")\n",
        "plt.show()"
      ],
      "metadata": {
        "colab": {
          "base_uri": "https://localhost:8080/",
          "height": 484
        },
        "id": "3LjdTmWioURz",
        "outputId": "41b554b8-a74d-4a10-e6bc-994862347483"
      },
      "execution_count": null,
      "outputs": [
        {
          "output_type": "stream",
          "name": "stdout",
          "text": [
            "tensor([[ 3.2962,  0.6633, -3.8086]], grad_fn=<AddmmBackward0>)\n",
            "tensor([[9.3223e-01, 6.7000e-02, 7.6551e-04]], grad_fn=<SoftmaxBackward0>)\n"
          ]
        },
        {
          "output_type": "display_data",
          "data": {
            "text/plain": [
              "<Figure size 640x480 with 1 Axes>"
            ],
            "image/png": "[encoded data removed]"
          },
          "metadata": {}
        }
      ]
    },
    {
      "cell_type": "markdown",
      "source": [],
      "metadata": {
        "id": "nWnZHvnS_XKq"
      }
    }
  ]
}